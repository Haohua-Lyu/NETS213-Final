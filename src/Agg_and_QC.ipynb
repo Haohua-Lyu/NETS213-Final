{
  "nbformat": 4,
  "nbformat_minor": 0,
  "metadata": {
    "colab": {
      "name": "Agg and QC.ipynb",
      "provenance": [],
      "collapsed_sections": []
    },
    "kernelspec": {
      "name": "python3",
      "display_name": "Python 3"
    },
    "language_info": {
      "name": "python"
    }
  },
  "cells": [
    {
      "cell_type": "code",
      "metadata": {
        "id": "fdegkkDI5CPd"
      },
      "source": [
        "import pandas as pd\n",
        "\n",
        "def em_worker_quality(rows, labels):\n",
        "  worker = {}\n",
        "\n",
        "  for _, r in rows.iterrows():\n",
        "    wrkr = r['WorkerId']\n",
        "    profile = r['Input.profile1']\n",
        "    p1 = r['Input.profile2']\n",
        "    p2 = r['Input.profile3']\n",
        "    p3 = r['Input.profile4']\n",
        "    p4 = r['Input.profile5']\n",
        "    p5 = r['Input.profile6']\n",
        "    r1 = r['Answer.rating1']\n",
        "    r2 = r['Answer.rating2']\n",
        "    r3 = r['Answer.rating3']\n",
        "    r4 = r['Answer.rating4']\n",
        "    r5 = r['Answer.rating5']\n",
        "\n",
        "\n",
        "    if worker.get(wrkr) == None:\n",
        "      worker.update({wrkr: {\"match_match\": 0.0, \"match_notmatch\": 0.0, \n",
        "                            \"notmatch_notmatch\": 0.0, \"notmatch_match\": 0.0}})\n",
        "    # rating of 3 and 4 means a match\n",
        "    if r1 in [3, 4]:\n",
        "      if labels[(profile, p1)][\"match\"] == 1.0:\n",
        "        worker[wrkr][\"match_match\"] += 1.0\n",
        "      elif labels[(profile, p1)][\"notmatch\"] == 1.0:\n",
        "        worker[wrkr][\"notmatch_match\"] += 1.0\n",
        "    # rating of 1 and 2 means a NO match\n",
        "    elif r1 in [1, 2]:\n",
        "      if labels[(profile, p1)][\"match\"] == 1.0:\n",
        "        worker[wrkr][\"match_notmatch\"] += 1.0\n",
        "      elif labels[(profile, p1)][\"notmatch\"] == 1.0:\n",
        "        worker[wrkr][\"notmatch_notmatch\"] += 1.0\n",
        "    \n",
        "    # rating of 3 and 4 means a match\n",
        "    if r2 in [3, 4]:\n",
        "      if labels[(profile, p2)][\"match\"] == 1.0:\n",
        "        worker[wrkr][\"match_match\"] += 1.0\n",
        "      elif labels[(profile, p2)][\"notmatch\"] == 1.0:\n",
        "        worker[wrkr][\"notmatch_match\"] += 1.0\n",
        "    # rating of 1 and 2 means a NO match\n",
        "    elif r2 in [1, 2]:\n",
        "      if labels[(profile, p2)][\"match\"] == 1.0:\n",
        "        worker[wrkr][\"match_notmatch\"] += 1.0\n",
        "      elif labels[(profile, p2)][\"notmatch\"] == 1.0:\n",
        "        worker[wrkr][\"notmatch_notmatch\"] += 1.0\n",
        "    \n",
        "    # rating of 3 and 4 means a match\n",
        "    if r3 in [3, 4]:\n",
        "      if labels[(profile, p3)][\"match\"] == 1.0:\n",
        "        worker[wrkr][\"match_match\"] += 1.0\n",
        "      elif labels[(profile, p3)][\"notmatch\"] == 1.0:\n",
        "        worker[wrkr][\"notmatch_match\"] += 1.0\n",
        "    # rating of 1 and 2 means a NO match\n",
        "    elif r3 in [1, 2]:\n",
        "      if labels[(profile, p3)][\"match\"] == 1.0:\n",
        "        worker[wrkr][\"match_notmatch\"] += 1.0\n",
        "      elif labels[(profile, p3)][\"notmatch\"] == 1.0:\n",
        "        worker[wrkr][\"notmatch_notmatch\"] += 1.0\n",
        "    \n",
        "    # rating of 3 and 4 means a match\n",
        "    if r4 in [3, 4]:\n",
        "      if labels[(profile, p4)][\"match\"] == 1.0:\n",
        "        worker[wrkr][\"match_match\"] += 1.0\n",
        "      elif labels[(profile, p4)][\"notmatch\"] == 1.0:\n",
        "        worker[wrkr][\"notmatch_match\"] += 1.0\n",
        "    # rating of 1 and 2 means a NO match\n",
        "    elif r4 in [1, 2]:\n",
        "      if labels[(profile, p4)][\"match\"] == 1.0:\n",
        "        worker[wrkr][\"match_notmatch\"] += 1.0\n",
        "      elif labels[(profile, p4)][\"notmatch\"] == 1.0:\n",
        "        worker[wrkr][\"notmatch_notmatch\"] += 1.0\n",
        "    \n",
        "    # rating of 3 and 4 means a match\n",
        "    if r5 in [3, 4]:\n",
        "      if labels[(profile, p5)][\"match\"] == 1.0:\n",
        "        worker[wrkr][\"match_match\"] += 1.0\n",
        "      elif labels[(profile, p5)][\"notmatch\"] == 1.0:\n",
        "        worker[wrkr][\"notmatch_match\"] += 1.0\n",
        "    # rating of 1 and 2 means a NO match\n",
        "    elif r5 in [1, 2]:\n",
        "      if labels[(profile, p5)][\"match\"] == 1.0:\n",
        "        worker[wrkr][\"match_notmatch\"] += 1.0\n",
        "      elif labels[(profile, p5)][\"notmatch\"] == 1.0:\n",
        "        worker[wrkr][\"notmatch_notmatch\"] += 1.0\n",
        "  \n",
        "  for w, matrix in worker.items():\n",
        "    \n",
        "    t_match = matrix[\"match_match\"] + matrix[\"match_notmatch\"]\n",
        "    if t_match != 0.0:\n",
        "      matrix[\"match_match\"] = matrix[\"match_match\"] / t_match\n",
        "      matrix[\"match_notmatch\"] = matrix[\"match_notmatch\"] / t_match\n",
        "\n",
        "    t_nmatch = matrix[\"notmatch_notmatch\"] + matrix[\"notmatch_match\"]\n",
        "    if t_nmatch != 0.0:\n",
        "      matrix[\"notmatch_notmatch\"] = matrix[\"notmatch_notmatch\"] / t_nmatch\n",
        "      matrix[\"notmatch_match\"] = matrix[\"notmatch_match\"] / t_nmatch\n",
        "    else:\n",
        "      print(w)\n",
        "  return worker\n",
        "\n",
        "def em_votes(rows, worker_qual):\n",
        "    labels = {}\n",
        "    for _, r in rows.iterrows():\n",
        "      wrkr = r['WorkerId']\n",
        "      profile = r['Input.profile1']\n",
        "      p1 = r['Input.profile2']\n",
        "      p2 = r['Input.profile3']\n",
        "      p3 = r['Input.profile4']\n",
        "      p4 = r['Input.profile5']\n",
        "      p5 = r['Input.profile6']\n",
        "      r1 = r['Answer.rating1']\n",
        "      r2 = r['Answer.rating2']\n",
        "      r3 = r['Answer.rating3']\n",
        "      r4 = r['Answer.rating4']\n",
        "      r5 = r['Answer.rating5']\n",
        "\n",
        "      if labels.get((profile, p1)) == None:\n",
        "        labels.update({(profile, p1): {\"match\": 0.0, \"notmatch\": 0.0}})\n",
        "      if labels.get((profile, p2)) == None:\n",
        "        labels.update({(profile, p2): {\"match\": 0.0, \"notmatch\": 0.0}})\n",
        "      if labels.get((profile, p3)) == None:\n",
        "        labels.update({(profile, p3): {\"match\": 0.0, \"notmatch\": 0.0}})\n",
        "      if labels.get((profile, p4)) == None:\n",
        "        labels.update({(profile, p4): {\"match\": 0.0, \"notmatch\": 0.0}})\n",
        "      if labels.get((profile, p5)) == None:\n",
        "        labels.update({(profile, p5): {\"match\": 0.0, \"notmatch\": 0.0}})\n",
        "    \n",
        "      if r1 in [3, 4]:\n",
        "          labels[(profile, p1)][\"match\"]+= worker_qual[wrkr][\"match_match\"] * int(r1)\n",
        "          labels[(profile, p1)][\"notmatch\"] += worker_qual[wrkr][\"notmatch_match\"] * int(r1)\n",
        "      elif r1 in [1, 2]:\n",
        "          labels[(profile, p1)][\"notmatch\"] += worker_qual[wrkr][\"notmatch_notmatch\"] * int(r1)\n",
        "          labels[(profile, p1)][\"match\"] += worker_qual[wrkr][\"match_notmatch\"] * int(r1)\n",
        "      if r2 in [3, 4]:\n",
        "          labels[(profile, p2)][\"match\"]+= worker_qual[wrkr][\"match_match\"] * int(r2)\n",
        "          labels[(profile, p2)][\"notmatch\"] += worker_qual[wrkr][\"notmatch_match\"] * int(r2)\n",
        "      elif r2 in [1, 2]:\n",
        "          labels[(profile, p2)][\"notmatch\"] += worker_qual[wrkr][\"notmatch_notmatch\"] * int(r2)\n",
        "          labels[(profile, p2)][\"match\"] += worker_qual[wrkr][\"match_notmatch\"] * int(r2)\n",
        "      if r3 in [3, 4]:\n",
        "          labels[(profile, p3)][\"match\"]+= worker_qual[wrkr][\"match_match\"] * int(r3)\n",
        "          labels[(profile, p3)][\"notmatch\"] += worker_qual[wrkr][\"notmatch_match\"] * int(r3)\n",
        "      elif r3 in [1, 2]:\n",
        "          labels[(profile, p3)][\"notmatch\"] += worker_qual[wrkr][\"notmatch_notmatch\"] * int(r3)\n",
        "          labels[(profile, p3)][\"match\"] += worker_qual[wrkr][\"match_notmatch\"] * int(r3)\n",
        "      if r4 in [3, 4]:\n",
        "          labels[(profile, p4)][\"match\"]+= worker_qual[wrkr][\"match_match\"] * int(r4)\n",
        "          labels[(profile, p4)][\"notmatch\"] += worker_qual[wrkr][\"notmatch_match\"] * int(r4)\n",
        "      elif r4 in [1, 2]:\n",
        "          labels[(profile, p4)][\"notmatch\"] += worker_qual[wrkr][\"notmatch_notmatch\"] * int(r4)\n",
        "          labels[(profile, p4)][\"match\"] += worker_qual[wrkr][\"match_notmatch\"] * int(r4)\n",
        "      if r5 in [3 ,4]:\n",
        "          labels[(profile, p5)][\"match\"]+= worker_qual[wrkr][\"match_match\"] * int(r5)\n",
        "          labels[(profile, p5)][\"notmatch\"] += worker_qual[wrkr][\"notmatch_match\"] * int(r5)\n",
        "      elif r5 in [1, 2]:\n",
        "          labels[(profile, p5)][\"notmatch\"] += worker_qual[wrkr][\"notmatch_notmatch\"] * int(r5)\n",
        "          labels[(profile, p5)][\"match\"] += worker_qual[wrkr][\"match_notmatch\"] * int(r5)\n",
        "    \n",
        "    maj_labels = {}\n",
        "    for pair, val in labels.items():\n",
        "      if val[\"notmatch\"] > val[\"match\"]:\n",
        "        maj_labels.update({pair: {\"match\": 0.0, \"notmatch\": 1.0}})\n",
        "      else:\n",
        "        maj_labels.update({pair: {\"match\": 1.0, \"notmatch\": 0.0}})\n",
        "    \n",
        "    return maj_labels\n",
        "    \n",
        "\n",
        "def em_iteration(rows, worker_qual):\n",
        "    labels = em_votes(rows, worker_qual)\n",
        "    worker_qual = em_worker_quality(rows, labels)\n",
        "    return labels, worker_qual\n",
        "\n",
        "def em_vote(rows, iter_num):\n",
        "  worker_qual = {}\n",
        "  for _, row in rows.iterrows():\n",
        "    wrkr = row['WorkerId']\n",
        "    if worker_qual.get(wrkr) == None:\n",
        "      worker_qual.update({wrkr: {\"match_match\": 1.0, \"match_notmatch\": 0.0, \n",
        "                                    \"notmatch_notmatch\": 1.0, \"notmatch_match\": 0.0}})\n",
        "  \n",
        "  wrkr_ql = worker_qual\n",
        "  labels = \"\"\n",
        "  for i in range(iter_num):\n",
        "      (l, w_ql) = em_iteration(rows, wrkr_ql) \n",
        "\n",
        "      wrkr_ql = w_ql\n",
        "      labels = l\n",
        "\n",
        "  final = []\n",
        "  for pair, val in labels.items():\n",
        "    if val[\"match\"] == 1.0:\n",
        "      final.append((pair[0],pair[1], \"match\"))\n",
        "    else:\n",
        "      final.append((pair[0], pair[1], \"notmatch\"))\n",
        "\n",
        "  final.sort()\n",
        "\n",
        "  df1 = pd.DataFrame(wrkr_ql)\n",
        "  return final,df1"
      ],
      "execution_count": null,
      "outputs": []
    },
    {
      "cell_type": "code",
      "metadata": {
        "id": "c7Rw-4q75Tek"
      },
      "source": [
        " #EM algorithm\n",
        "\n",
        "def main():\n",
        "  mturk_data = pd.read_csv('/content/NETS213 FinalProjData.csv')\n",
        "  info5 = em_vote(mturk_data, 3)[0]\n",
        "  df = em_vote(mturk_data, 3)[1]\n",
        "  df.to_csv('worker_ql.csv', index=False)\n",
        "  df5 = pd.DataFrame(info5)\n",
        "  df5.to_csv('output5.csv', index = False)\n",
        "\n",
        "if __name__ == '__main__':\n",
        "    main()"
      ],
      "execution_count": null,
      "outputs": []
    },
    {
      "cell_type": "code",
      "metadata": {
        "id": "zHtPzQKq_SWW",
        "colab": {
          "base_uri": "https://localhost:8080/"
        },
        "outputId": "f16727df-203a-417b-9503-432b5a83455b"
      },
      "source": [
        "mturk_data = pd.read_csv('/content/NETS213 FinalProjData.csv')\n",
        "info = em_vote(mturk_data, 3)[0]\n",
        "df = em_vote(mturk_data, 3)[1]\n",
        "df.to_csv('worker_ql.csv', index=False)\n",
        "df2 = pd.DataFrame(info)\n",
        "df2.to_csv('output2.csv', index = False)"
      ],
      "execution_count": null,
      "outputs": [
        {
          "output_type": "stream",
          "text": [
            "A2HDCSPSMKB2WG\n",
            "A3W2CQT1M9GEL\n",
            "A3BS891GDX2MZS\n",
            "A1WT9J6TTJDLKN\n",
            "A377PON9N4JZEY\n",
            "A34T4R7G25LDJM\n",
            "A1936LUSP0IU9P\n",
            "A3LYKC6UUYWBNW\n",
            "A1BZNPQ0H7ZSER\n",
            "A3IXJO2X4M1D7U\n",
            "A1E8VY6G6VFBB9\n",
            "A3ICFB5LP54FO2\n",
            "A2NT5QSDTUUHOA\n",
            "AVIEE6LDH0BT5\n",
            "A2TWIZXBZLCMNM\n",
            "A1OSPGFZVR6MFZ\n",
            "A10MU8Y8F3J4QF\n",
            "A3HF4FOT5XOZKU\n",
            "A2RLSRUHS830A7\n",
            "A1KOBLL83SICGQ\n",
            "A13GUTDMGGZZDL\n",
            "A37JC45Y9GLSA7\n",
            "A26MN6JIKD4NXU\n",
            "A29AML7RI4I0NT\n",
            "A3PDR75KYPYK4Z\n",
            "A2235UABD5PUJX\n",
            "A2Q5PKTM9AMQHJ\n",
            "A2AOMO4290G7Q6\n",
            "A3S0C974DF3EJY\n",
            "A2HDCSPSMKB2WG\n",
            "A3W2CQT1M9GEL\n",
            "A3BS891GDX2MZS\n",
            "A1WT9J6TTJDLKN\n",
            "A377PON9N4JZEY\n",
            "A34T4R7G25LDJM\n",
            "A1936LUSP0IU9P\n",
            "A3LYKC6UUYWBNW\n",
            "A1BZNPQ0H7ZSER\n",
            "A3IXJO2X4M1D7U\n",
            "A1E8VY6G6VFBB9\n",
            "A3ICFB5LP54FO2\n",
            "A2NT5QSDTUUHOA\n",
            "AVIEE6LDH0BT5\n",
            "A2TWIZXBZLCMNM\n",
            "A1OSPGFZVR6MFZ\n",
            "A10MU8Y8F3J4QF\n",
            "A3HF4FOT5XOZKU\n",
            "A2RLSRUHS830A7\n",
            "A1KOBLL83SICGQ\n",
            "A13GUTDMGGZZDL\n",
            "A37JC45Y9GLSA7\n",
            "A26MN6JIKD4NXU\n",
            "A29AML7RI4I0NT\n",
            "A3PDR75KYPYK4Z\n",
            "A2235UABD5PUJX\n",
            "A2Q5PKTM9AMQHJ\n",
            "A2AOMO4290G7Q6\n",
            "A3S0C974DF3EJY\n",
            "A2HDCSPSMKB2WG\n",
            "A3W2CQT1M9GEL\n",
            "A3BS891GDX2MZS\n",
            "A1WT9J6TTJDLKN\n",
            "A377PON9N4JZEY\n",
            "A34T4R7G25LDJM\n",
            "A1936LUSP0IU9P\n",
            "A3LYKC6UUYWBNW\n",
            "A1BZNPQ0H7ZSER\n",
            "A3IXJO2X4M1D7U\n",
            "A1E8VY6G6VFBB9\n",
            "A3ICFB5LP54FO2\n",
            "A2NT5QSDTUUHOA\n",
            "AVIEE6LDH0BT5\n",
            "A2TWIZXBZLCMNM\n",
            "A1OSPGFZVR6MFZ\n",
            "A10MU8Y8F3J4QF\n",
            "A3HF4FOT5XOZKU\n",
            "A2RLSRUHS830A7\n",
            "A1KOBLL83SICGQ\n",
            "A13GUTDMGGZZDL\n",
            "A37JC45Y9GLSA7\n",
            "A26MN6JIKD4NXU\n",
            "A29AML7RI4I0NT\n",
            "A3PDR75KYPYK4Z\n",
            "A2235UABD5PUJX\n",
            "A2Q5PKTM9AMQHJ\n",
            "A2AOMO4290G7Q6\n",
            "A3S0C974DF3EJY\n",
            "A2HDCSPSMKB2WG\n",
            "A3W2CQT1M9GEL\n",
            "A3BS891GDX2MZS\n",
            "A1WT9J6TTJDLKN\n",
            "A377PON9N4JZEY\n",
            "A34T4R7G25LDJM\n",
            "A1936LUSP0IU9P\n",
            "A3LYKC6UUYWBNW\n",
            "A1BZNPQ0H7ZSER\n",
            "A3IXJO2X4M1D7U\n",
            "A1E8VY6G6VFBB9\n",
            "A3ICFB5LP54FO2\n",
            "A2NT5QSDTUUHOA\n",
            "AVIEE6LDH0BT5\n",
            "A2TWIZXBZLCMNM\n",
            "A1OSPGFZVR6MFZ\n",
            "A10MU8Y8F3J4QF\n",
            "A3HF4FOT5XOZKU\n",
            "A2RLSRUHS830A7\n",
            "A1KOBLL83SICGQ\n",
            "A13GUTDMGGZZDL\n",
            "A37JC45Y9GLSA7\n",
            "A26MN6JIKD4NXU\n",
            "A29AML7RI4I0NT\n",
            "A3PDR75KYPYK4Z\n",
            "A2235UABD5PUJX\n",
            "A2Q5PKTM9AMQHJ\n",
            "A2AOMO4290G7Q6\n",
            "A3S0C974DF3EJY\n",
            "A2HDCSPSMKB2WG\n",
            "A3W2CQT1M9GEL\n",
            "A3BS891GDX2MZS\n",
            "A1WT9J6TTJDLKN\n",
            "A377PON9N4JZEY\n",
            "A34T4R7G25LDJM\n",
            "A1936LUSP0IU9P\n",
            "A3LYKC6UUYWBNW\n",
            "A1BZNPQ0H7ZSER\n",
            "A3IXJO2X4M1D7U\n",
            "A1E8VY6G6VFBB9\n",
            "A3ICFB5LP54FO2\n",
            "A2NT5QSDTUUHOA\n",
            "AVIEE6LDH0BT5\n",
            "A2TWIZXBZLCMNM\n",
            "A1OSPGFZVR6MFZ\n",
            "A10MU8Y8F3J4QF\n",
            "A3HF4FOT5XOZKU\n",
            "A2RLSRUHS830A7\n",
            "A1KOBLL83SICGQ\n",
            "A13GUTDMGGZZDL\n",
            "A37JC45Y9GLSA7\n",
            "A26MN6JIKD4NXU\n",
            "A29AML7RI4I0NT\n",
            "A3PDR75KYPYK4Z\n",
            "A2235UABD5PUJX\n",
            "A2Q5PKTM9AMQHJ\n",
            "A2AOMO4290G7Q6\n",
            "A3S0C974DF3EJY\n",
            "A2HDCSPSMKB2WG\n",
            "A3W2CQT1M9GEL\n",
            "A3BS891GDX2MZS\n",
            "A1WT9J6TTJDLKN\n",
            "A377PON9N4JZEY\n",
            "A34T4R7G25LDJM\n",
            "A1936LUSP0IU9P\n",
            "A3LYKC6UUYWBNW\n",
            "A1BZNPQ0H7ZSER\n",
            "A3IXJO2X4M1D7U\n",
            "A1E8VY6G6VFBB9\n",
            "A3ICFB5LP54FO2\n",
            "A2NT5QSDTUUHOA\n",
            "AVIEE6LDH0BT5\n",
            "A2TWIZXBZLCMNM\n",
            "A1OSPGFZVR6MFZ\n",
            "A10MU8Y8F3J4QF\n",
            "A3HF4FOT5XOZKU\n",
            "A2RLSRUHS830A7\n",
            "A1KOBLL83SICGQ\n",
            "A13GUTDMGGZZDL\n",
            "A37JC45Y9GLSA7\n",
            "A26MN6JIKD4NXU\n",
            "A29AML7RI4I0NT\n",
            "A3PDR75KYPYK4Z\n",
            "A2235UABD5PUJX\n",
            "A2Q5PKTM9AMQHJ\n",
            "A2AOMO4290G7Q6\n",
            "A3S0C974DF3EJY\n"
          ],
          "name": "stdout"
        }
      ]
    },
    {
      "cell_type": "code",
      "metadata": {
        "id": "LSBw3PgPauy7"
      },
      "source": [
        "#df.shape\n",
        "df = df.transpose()"
      ],
      "execution_count": null,
      "outputs": []
    },
    {
      "cell_type": "code",
      "metadata": {
        "colab": {
          "base_uri": "https://localhost:8080/",
          "height": 419
        },
        "id": "e7QjBBD9f3k9",
        "outputId": "1169389d-a2b8-453f-91f4-929a9227a91d"
      },
      "source": [
        "df"
      ],
      "execution_count": null,
      "outputs": [
        {
          "output_type": "execute_result",
          "data": {
            "text/html": [
              "<div>\n",
              "<style scoped>\n",
              "    .dataframe tbody tr th:only-of-type {\n",
              "        vertical-align: middle;\n",
              "    }\n",
              "\n",
              "    .dataframe tbody tr th {\n",
              "        vertical-align: top;\n",
              "    }\n",
              "\n",
              "    .dataframe thead th {\n",
              "        text-align: right;\n",
              "    }\n",
              "</style>\n",
              "<table border=\"1\" class=\"dataframe\">\n",
              "  <thead>\n",
              "    <tr style=\"text-align: right;\">\n",
              "      <th></th>\n",
              "      <th>match_match</th>\n",
              "      <th>match_notmatch</th>\n",
              "      <th>notmatch_notmatch</th>\n",
              "      <th>notmatch_match</th>\n",
              "    </tr>\n",
              "  </thead>\n",
              "  <tbody>\n",
              "    <tr>\n",
              "      <th>A17GHP8L89ZSD5</th>\n",
              "      <td>0.678261</td>\n",
              "      <td>0.321739</td>\n",
              "      <td>0.675000</td>\n",
              "      <td>0.325000</td>\n",
              "    </tr>\n",
              "    <tr>\n",
              "      <th>A2IUT0610X9CV0</th>\n",
              "      <td>0.538462</td>\n",
              "      <td>0.461538</td>\n",
              "      <td>0.909091</td>\n",
              "      <td>0.090909</td>\n",
              "    </tr>\n",
              "    <tr>\n",
              "      <th>A7UNIWDAQROJG</th>\n",
              "      <td>0.737288</td>\n",
              "      <td>0.262712</td>\n",
              "      <td>0.750000</td>\n",
              "      <td>0.250000</td>\n",
              "    </tr>\n",
              "    <tr>\n",
              "      <th>A32DRYN7M7HIZT</th>\n",
              "      <td>0.537879</td>\n",
              "      <td>0.462121</td>\n",
              "      <td>0.526316</td>\n",
              "      <td>0.473684</td>\n",
              "    </tr>\n",
              "    <tr>\n",
              "      <th>A3746TDKYH8SJ9</th>\n",
              "      <td>0.632911</td>\n",
              "      <td>0.367089</td>\n",
              "      <td>0.789474</td>\n",
              "      <td>0.210526</td>\n",
              "    </tr>\n",
              "    <tr>\n",
              "      <th>...</th>\n",
              "      <td>...</td>\n",
              "      <td>...</td>\n",
              "      <td>...</td>\n",
              "      <td>...</td>\n",
              "    </tr>\n",
              "    <tr>\n",
              "      <th>A2AOMO4290G7Q6</th>\n",
              "      <td>0.600000</td>\n",
              "      <td>0.400000</td>\n",
              "      <td>0.000000</td>\n",
              "      <td>0.000000</td>\n",
              "    </tr>\n",
              "    <tr>\n",
              "      <th>A3S0C974DF3EJY</th>\n",
              "      <td>0.600000</td>\n",
              "      <td>0.400000</td>\n",
              "      <td>0.000000</td>\n",
              "      <td>0.000000</td>\n",
              "    </tr>\n",
              "    <tr>\n",
              "      <th>A1G6DFTYUM578N</th>\n",
              "      <td>1.000000</td>\n",
              "      <td>0.000000</td>\n",
              "      <td>1.000000</td>\n",
              "      <td>0.000000</td>\n",
              "    </tr>\n",
              "    <tr>\n",
              "      <th>A14Y02GIRS0IRW</th>\n",
              "      <td>0.000000</td>\n",
              "      <td>1.000000</td>\n",
              "      <td>1.000000</td>\n",
              "      <td>0.000000</td>\n",
              "    </tr>\n",
              "    <tr>\n",
              "      <th>AO2WNSGOXAX52</th>\n",
              "      <td>0.000000</td>\n",
              "      <td>1.000000</td>\n",
              "      <td>0.500000</td>\n",
              "      <td>0.500000</td>\n",
              "    </tr>\n",
              "  </tbody>\n",
              "</table>\n",
              "<p>92 rows × 4 columns</p>\n",
              "</div>"
            ],
            "text/plain": [
              "                match_match  match_notmatch  notmatch_notmatch  notmatch_match\n",
              "A17GHP8L89ZSD5     0.678261        0.321739           0.675000        0.325000\n",
              "A2IUT0610X9CV0     0.538462        0.461538           0.909091        0.090909\n",
              "A7UNIWDAQROJG      0.737288        0.262712           0.750000        0.250000\n",
              "A32DRYN7M7HIZT     0.537879        0.462121           0.526316        0.473684\n",
              "A3746TDKYH8SJ9     0.632911        0.367089           0.789474        0.210526\n",
              "...                     ...             ...                ...             ...\n",
              "A2AOMO4290G7Q6     0.600000        0.400000           0.000000        0.000000\n",
              "A3S0C974DF3EJY     0.600000        0.400000           0.000000        0.000000\n",
              "A1G6DFTYUM578N     1.000000        0.000000           1.000000        0.000000\n",
              "A14Y02GIRS0IRW     0.000000        1.000000           1.000000        0.000000\n",
              "AO2WNSGOXAX52      0.000000        1.000000           0.500000        0.500000\n",
              "\n",
              "[92 rows x 4 columns]"
            ]
          },
          "metadata": {
            "tags": []
          },
          "execution_count": 59
        }
      ]
    },
    {
      "cell_type": "code",
      "metadata": {
        "colab": {
          "base_uri": "https://localhost:8080/"
        },
        "id": "k_6YKAnfa38T",
        "outputId": "cf945016-8363-4232-be16-749472d5c808"
      },
      "source": [
        "tot1 = 0\n",
        "tot2 = 0\n",
        "tot3 = 0\n",
        "tot4 = 0\n",
        "\n",
        "m1 = 0\n",
        "m2 = 0\n",
        "\n",
        "for index, row in df.iterrows():\n",
        "  if row[0] + row[1] == 0:\n",
        "    m1 = m1 + 1\n",
        "  if row[2] + row[3] == 0:\n",
        "    m2 = m2 + 1\n",
        "  tot1 = tot1 + row[0]\n",
        "  tot2 = tot2 + row[1]\n",
        "  tot3 = tot3 + row[2]\n",
        "  tot4 = tot4 + row[3]\n",
        "\n",
        "print(tot1 / (92 - m1))\n",
        "print(tot2 / (92 - m1))\n",
        "print(tot3 / (92 - m2))\n",
        "print(tot4 / (92 - m2))"
      ],
      "execution_count": null,
      "outputs": [
        {
          "output_type": "stream",
          "text": [
            "0.5821286284958669\n",
            "0.41787137150413317\n",
            "0.8100403064485414\n",
            "0.18995969355145859\n"
          ],
          "name": "stdout"
        }
      ]
    },
    {
      "cell_type": "code",
      "metadata": {
        "colab": {
          "base_uri": "https://localhost:8080/"
        },
        "id": "3N0n79bLiHCh",
        "outputId": "c88edbeb-98e5-442d-d6ab-a72ca69b4593"
      },
      "source": [
        "0.5821286285 + 0.8100403064485414"
      ],
      "execution_count": null,
      "outputs": [
        {
          "output_type": "execute_result",
          "data": {
            "text/plain": [
              "1.3921689349485415"
            ]
          },
          "metadata": {
            "tags": []
          },
          "execution_count": 61
        }
      ]
    },
    {
      "cell_type": "code",
      "metadata": {
        "colab": {
          "base_uri": "https://localhost:8080/"
        },
        "id": "9xS_W0V0iKPP",
        "outputId": "3c569afa-fb8d-484c-a85b-36b45c33a5c8"
      },
      "source": [
        "0.41787137150413317 + 0.18995969355145859"
      ],
      "execution_count": null,
      "outputs": [
        {
          "output_type": "execute_result",
          "data": {
            "text/plain": [
              "0.6078310650555918"
            ]
          },
          "metadata": {
            "tags": []
          },
          "execution_count": 62
        }
      ]
    },
    {
      "cell_type": "code",
      "metadata": {
        "colab": {
          "base_uri": "https://localhost:8080/",
          "height": 419
        },
        "id": "SSh-1sFhkyXZ",
        "outputId": "529f0952-81ea-46c4-e5c9-fbfa3b726bdb"
      },
      "source": [
        "l = []\n",
        "for i, row in df.iterrows():\n",
        "  sum = 0\n",
        "  cnt = 0\n",
        "  if row[0] + row[1] != 0:\n",
        "    sum = sum + row[0]\n",
        "    cnt = cnt + 1\n",
        "  \n",
        "  if row[2] + row[3] != 0:\n",
        "    sum = sum + row[2]\n",
        "    cnt = cnt + 1\n",
        "\n",
        "  l.append(sum / cnt)\n",
        "\n",
        "df['averaged_quality'] = l\n",
        "df"
      ],
      "execution_count": null,
      "outputs": [
        {
          "output_type": "execute_result",
          "data": {
            "text/html": [
              "<div>\n",
              "<style scoped>\n",
              "    .dataframe tbody tr th:only-of-type {\n",
              "        vertical-align: middle;\n",
              "    }\n",
              "\n",
              "    .dataframe tbody tr th {\n",
              "        vertical-align: top;\n",
              "    }\n",
              "\n",
              "    .dataframe thead th {\n",
              "        text-align: right;\n",
              "    }\n",
              "</style>\n",
              "<table border=\"1\" class=\"dataframe\">\n",
              "  <thead>\n",
              "    <tr style=\"text-align: right;\">\n",
              "      <th></th>\n",
              "      <th>match_match</th>\n",
              "      <th>match_notmatch</th>\n",
              "      <th>notmatch_notmatch</th>\n",
              "      <th>notmatch_match</th>\n",
              "      <th>averaged_quality</th>\n",
              "    </tr>\n",
              "  </thead>\n",
              "  <tbody>\n",
              "    <tr>\n",
              "      <th>A17GHP8L89ZSD5</th>\n",
              "      <td>0.678261</td>\n",
              "      <td>0.321739</td>\n",
              "      <td>0.675000</td>\n",
              "      <td>0.325000</td>\n",
              "      <td>0.676630</td>\n",
              "    </tr>\n",
              "    <tr>\n",
              "      <th>A2IUT0610X9CV0</th>\n",
              "      <td>0.538462</td>\n",
              "      <td>0.461538</td>\n",
              "      <td>0.909091</td>\n",
              "      <td>0.090909</td>\n",
              "      <td>0.723776</td>\n",
              "    </tr>\n",
              "    <tr>\n",
              "      <th>A7UNIWDAQROJG</th>\n",
              "      <td>0.737288</td>\n",
              "      <td>0.262712</td>\n",
              "      <td>0.750000</td>\n",
              "      <td>0.250000</td>\n",
              "      <td>0.743644</td>\n",
              "    </tr>\n",
              "    <tr>\n",
              "      <th>A32DRYN7M7HIZT</th>\n",
              "      <td>0.537879</td>\n",
              "      <td>0.462121</td>\n",
              "      <td>0.526316</td>\n",
              "      <td>0.473684</td>\n",
              "      <td>0.532097</td>\n",
              "    </tr>\n",
              "    <tr>\n",
              "      <th>A3746TDKYH8SJ9</th>\n",
              "      <td>0.632911</td>\n",
              "      <td>0.367089</td>\n",
              "      <td>0.789474</td>\n",
              "      <td>0.210526</td>\n",
              "      <td>0.711193</td>\n",
              "    </tr>\n",
              "    <tr>\n",
              "      <th>...</th>\n",
              "      <td>...</td>\n",
              "      <td>...</td>\n",
              "      <td>...</td>\n",
              "      <td>...</td>\n",
              "      <td>...</td>\n",
              "    </tr>\n",
              "    <tr>\n",
              "      <th>A2AOMO4290G7Q6</th>\n",
              "      <td>0.600000</td>\n",
              "      <td>0.400000</td>\n",
              "      <td>0.000000</td>\n",
              "      <td>0.000000</td>\n",
              "      <td>0.600000</td>\n",
              "    </tr>\n",
              "    <tr>\n",
              "      <th>A3S0C974DF3EJY</th>\n",
              "      <td>0.600000</td>\n",
              "      <td>0.400000</td>\n",
              "      <td>0.000000</td>\n",
              "      <td>0.000000</td>\n",
              "      <td>0.600000</td>\n",
              "    </tr>\n",
              "    <tr>\n",
              "      <th>A1G6DFTYUM578N</th>\n",
              "      <td>1.000000</td>\n",
              "      <td>0.000000</td>\n",
              "      <td>1.000000</td>\n",
              "      <td>0.000000</td>\n",
              "      <td>1.000000</td>\n",
              "    </tr>\n",
              "    <tr>\n",
              "      <th>A14Y02GIRS0IRW</th>\n",
              "      <td>0.000000</td>\n",
              "      <td>1.000000</td>\n",
              "      <td>1.000000</td>\n",
              "      <td>0.000000</td>\n",
              "      <td>0.500000</td>\n",
              "    </tr>\n",
              "    <tr>\n",
              "      <th>AO2WNSGOXAX52</th>\n",
              "      <td>0.000000</td>\n",
              "      <td>1.000000</td>\n",
              "      <td>0.500000</td>\n",
              "      <td>0.500000</td>\n",
              "      <td>0.250000</td>\n",
              "    </tr>\n",
              "  </tbody>\n",
              "</table>\n",
              "<p>92 rows × 5 columns</p>\n",
              "</div>"
            ],
            "text/plain": [
              "                match_match  match_notmatch  ...  notmatch_match  averaged_quality\n",
              "A17GHP8L89ZSD5     0.678261        0.321739  ...        0.325000          0.676630\n",
              "A2IUT0610X9CV0     0.538462        0.461538  ...        0.090909          0.723776\n",
              "A7UNIWDAQROJG      0.737288        0.262712  ...        0.250000          0.743644\n",
              "A32DRYN7M7HIZT     0.537879        0.462121  ...        0.473684          0.532097\n",
              "A3746TDKYH8SJ9     0.632911        0.367089  ...        0.210526          0.711193\n",
              "...                     ...             ...  ...             ...               ...\n",
              "A2AOMO4290G7Q6     0.600000        0.400000  ...        0.000000          0.600000\n",
              "A3S0C974DF3EJY     0.600000        0.400000  ...        0.000000          0.600000\n",
              "A1G6DFTYUM578N     1.000000        0.000000  ...        0.000000          1.000000\n",
              "A14Y02GIRS0IRW     0.000000        1.000000  ...        0.000000          0.500000\n",
              "AO2WNSGOXAX52      0.000000        1.000000  ...        0.500000          0.250000\n",
              "\n",
              "[92 rows x 5 columns]"
            ]
          },
          "metadata": {
            "tags": []
          },
          "execution_count": 5
        }
      ]
    },
    {
      "cell_type": "code",
      "metadata": {
        "colab": {
          "base_uri": "https://localhost:8080/",
          "height": 401
        },
        "id": "JzBqV6wXu_Qo",
        "outputId": "07b0b38d-8745-4f9b-e4b0-eaf2d7296fb7"
      },
      "source": [
        "import matplotlib.pyplot as plt\n",
        "plt.hist(df['averaged_quality'], color = 'blue', edgecolor = 'black',\n",
        "         bins = int(92/4))"
      ],
      "execution_count": null,
      "outputs": [
        {
          "output_type": "execute_result",
          "data": {
            "text/plain": [
              "(array([ 1.,  0.,  0.,  0.,  2.,  2.,  0.,  1.,  0.,  5.,  4., 13.,  3.,\n",
              "         9.,  1.,  5.,  3.,  5., 11.,  6.,  4.,  0., 17.]),\n",
              " array([0.        , 0.04347826, 0.08695652, 0.13043478, 0.17391304,\n",
              "        0.2173913 , 0.26086957, 0.30434783, 0.34782609, 0.39130435,\n",
              "        0.43478261, 0.47826087, 0.52173913, 0.56521739, 0.60869565,\n",
              "        0.65217391, 0.69565217, 0.73913043, 0.7826087 , 0.82608696,\n",
              "        0.86956522, 0.91304348, 0.95652174, 1.        ]),\n",
              " <a list of 23 Patch objects>)"
            ]
          },
          "metadata": {
            "tags": []
          },
          "execution_count": 71
        },
        {
          "output_type": "display_data",
          "data": {
            "image/png": "[encoded data removed]",
            "text/plain": [
              "<Figure size 432x288 with 1 Axes>"
            ]
          },
          "metadata": {
            "tags": [],
            "needs_background": "light"
          }
        }
      ]
    },
    {
      "cell_type": "code",
      "metadata": {
        "colab": {
          "base_uri": "https://localhost:8080/"
        },
        "id": "tSW2txEojECj",
        "outputId": "8b8e89f3-47cf-47a0-d4ff-ab8e68535fac"
      },
      "source": [
        "tot_match = 0\n",
        "tot_nmatch = 0\n",
        "for index, row in df2.iterrows():\n",
        "  if row[2] == 'match':\n",
        "    tot_match = tot_match + 1\n",
        "  if row[2] == 'notmatch':\n",
        "    tot_nmatch = tot_nmatch + 1\n",
        "\n",
        "print(tot_match)\n",
        "print(tot_nmatch)"
      ],
      "execution_count": null,
      "outputs": [
        {
          "output_type": "stream",
          "text": [
            "386\n",
            "114\n"
          ],
          "name": "stdout"
        }
      ]
    },
    {
      "cell_type": "code",
      "metadata": {
        "colab": {
          "base_uri": "https://localhost:8080/",
          "height": 297
        },
        "id": "vYI3sITFfUvJ",
        "outputId": "5dd93cff-eb91-45d3-e77c-ecbb58d5c94e"
      },
      "source": [
        "import matplotlib.pyplot as plt\n",
        "x = [x*0.1 for x in range(1, 11)]\n",
        "y = [0.8220064724919094, 0.8169934640522876, 0.7878787878787878, 0.7781569965870307, 0.7578947368421054, 0.7402135231316727, 0.7106227106227105, 0.6563706563706564, 0.6160000000000001, 0.5934959349593496]\n",
        "plt.plot(x, y)\n",
        "plt.xlabel('Weight of religion')\n",
        "plt.ylabel('F1 Score')"
      ],
      "execution_count": 21,
      "outputs": [
        {
          "output_type": "execute_result",
          "data": {
            "text/plain": [
              "Text(0, 0.5, 'F1 Score')"
            ]
          },
          "metadata": {
            "tags": []
          },
          "execution_count": 21
        },
        {
          "output_type": "display_data",
          "data": {
            "image/png": "[encoded data removed]",
            "text/plain": [
              "<Figure size 432x288 with 1 Axes>"
            ]
          },
          "metadata": {
            "tags": [],
            "needs_background": "light"
          }
        }
      ]
    },
    {
      "cell_type": "code",
      "metadata": {
        "colab": {
          "base_uri": "https://localhost:8080/",
          "height": 265
        },
        "id": "YNltOLA9iqG1",
        "outputId": "b4175240-b9ec-4d66-d4cd-5ec8c1e9436b"
      },
      "source": [
        "x = ['100', '500', '1500', '5000', '15000', '50000']\n",
        "y = [125, 625, 1875, 6250, 18750, 62500]\n",
        "plt.bar(x, y)\n",
        "plt.show()"
      ],
      "execution_count": 20,
      "outputs": [
        {
          "output_type": "display_data",
          "data": {
            "image/png": "[encoded data removed]",
            "text/plain": [
              "<Figure size 432x288 with 1 Axes>"
            ]
          },
          "metadata": {
            "tags": [],
            "needs_background": "light"
          }
        }
      ]
    }
  ]
}